{
 "cells": [
  {
   "cell_type": "code",
   "execution_count": 10,
   "id": "70abfce9",
   "metadata": {},
   "outputs": [],
   "source": [
    "from tkinter import *"
   ]
  },
  {
   "cell_type": "code",
   "execution_count": 50,
   "id": "45a1e0f9",
   "metadata": {},
   "outputs": [],
   "source": [
    "root = Tk()\n",
    "\n",
    "root.geometry(\"1000x500\")\n",
    "root.resizable(False, False)\n",
    "\n",
    "def myClick():\n",
    "    myLabel = Label(root, text = \"98% Depression\")\n",
    "    myLabel.pack()\n",
    "\n",
    "myButton = Button(root, text = \"INDICATE\", padx = 15, pady = 10, command = myClick, fg = \"#E9EFC0\", bg = \"#4E944F\")\n",
    "myButton.pack()"
   ]
  },
  {
   "cell_type": "code",
   "execution_count": 51,
   "id": "95631c5c",
   "metadata": {},
   "outputs": [],
   "source": [
    "root.mainloop()"
   ]
  },
  {
   "cell_type": "code",
   "execution_count": null,
   "id": "f8c80926",
   "metadata": {},
   "outputs": [],
   "source": []
  }
 ],
 "metadata": {
  "kernelspec": {
   "display_name": "Python 3 (ipykernel)",
   "language": "python",
   "name": "python3"
  },
  "language_info": {
   "codemirror_mode": {
    "name": "ipython",
    "version": 3
   },
   "file_extension": ".py",
   "mimetype": "text/x-python",
   "name": "python",
   "nbconvert_exporter": "python",
   "pygments_lexer": "ipython3",
   "version": "3.10.4"
  }
 },
 "nbformat": 4,
 "nbformat_minor": 5
}
