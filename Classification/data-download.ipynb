{
 "cells": [
  {
   "cell_type": "code",
   "execution_count": 8,
   "metadata": {},
   "outputs": [
    {
     "name": "stderr",
     "output_type": "stream",
     "text": [
      "C:\\Users\\PC\\AppData\\Local\\Temp\\ipykernel_11804\\4276868877.py:4: DeprecationWarning: Importing clear_output from IPython.core.display is deprecated since IPython 7.14, please import from IPython display\n",
      "  from IPython.core.display import clear_output\n"
     ]
    }
   ],
   "source": [
    "from  helpers import *\n",
    "import spotipy\n",
    "from spotipy import SpotifyClientCredentials, util\n",
    "from IPython.core.display import clear_output\n",
    "\n",
    "import pandas as pd \n",
    "import pandasql as ps \n",
    "import time\n",
    "import sqlite3\n"
   ]
  },
  {
   "cell_type": "code",
   "execution_count": 5,
   "metadata": {},
   "outputs": [
    {
     "name": "stdout",
     "output_type": "stream",
     "text": [
      "Requirement already satisfied: pandasql in c:\\python\\lib\\site-packages (0.7.3)\n",
      "Requirement already satisfied: sqlalchemy in c:\\python\\lib\\site-packages (from pandasql) (1.4.37)\n",
      "Requirement already satisfied: pandas in c:\\python\\lib\\site-packages (from pandasql) (1.4.2)\n",
      "Requirement already satisfied: numpy in c:\\python\\lib\\site-packages (from pandasql) (1.22.3)\n",
      "Requirement already satisfied: python-dateutil>=2.8.1 in c:\\python\\lib\\site-packages (from pandas->pandasql) (2.8.2)\n",
      "Requirement already satisfied: pytz>=2020.1 in c:\\users\\pc\\appdata\\roaming\\python\\python310\\site-packages (from pandas->pandasql) (2022.1)\n",
      "Requirement already satisfied: greenlet!=0.4.17 in c:\\python\\lib\\site-packages (from sqlalchemy->pandasql) (1.1.2)\n",
      "Requirement already satisfied: six>=1.5 in c:\\python\\lib\\site-packages (from python-dateutil>=2.8.1->pandas->pandasql) (1.16.0)\n"
     ]
    },
    {
     "name": "stderr",
     "output_type": "stream",
     "text": [
      "WARNING: You are using pip version 22.0.4; however, version 22.1.2 is available.\n",
      "You should consider upgrading via the 'C:\\Python\\python.exe -m pip install --upgrade pip' command.\n"
     ]
    }
   ],
   "source": [
    "!pip install pandasql"
   ]
  },
  {
   "cell_type": "code",
   "execution_count": 11,
   "metadata": {
    "tags": []
   },
   "outputs": [
    {
     "name": "stdout",
     "output_type": "stream",
     "text": [
      "Music Downloaded!\n"
     ]
    },
    {
     "data": {
      "text/html": [
       "<div>\n",
       "<style scoped>\n",
       "    .dataframe tbody tr th:only-of-type {\n",
       "        vertical-align: middle;\n",
       "    }\n",
       "\n",
       "    .dataframe tbody tr th {\n",
       "        vertical-align: top;\n",
       "    }\n",
       "\n",
       "    .dataframe thead th {\n",
       "        text-align: right;\n",
       "    }\n",
       "</style>\n",
       "<table border=\"1\" class=\"dataframe\">\n",
       "  <thead>\n",
       "    <tr style=\"text-align: right;\">\n",
       "      <th></th>\n",
       "      <th>name</th>\n",
       "      <th>album</th>\n",
       "      <th>artist</th>\n",
       "      <th>id</th>\n",
       "      <th>release_date</th>\n",
       "      <th>popularity</th>\n",
       "      <th>length</th>\n",
       "      <th>danceability</th>\n",
       "      <th>acousticness</th>\n",
       "      <th>energy</th>\n",
       "      <th>instrumentalness</th>\n",
       "      <th>liveness</th>\n",
       "      <th>valence</th>\n",
       "      <th>loudness</th>\n",
       "      <th>speechiness</th>\n",
       "      <th>tempo</th>\n",
       "      <th>key</th>\n",
       "      <th>time_signature</th>\n",
       "    </tr>\n",
       "  </thead>\n",
       "  <tbody>\n",
       "    <tr>\n",
       "      <th>0</th>\n",
       "      <td>#BrooklynBloodPop!</td>\n",
       "      <td>#BrooklynBloodPop!</td>\n",
       "      <td>SyKo</td>\n",
       "      <td>7K9Z3yFNNLv5kwTjQYGjnu</td>\n",
       "      <td>2020-07-27</td>\n",
       "      <td>76</td>\n",
       "      <td>145610</td>\n",
       "      <td>0.691</td>\n",
       "      <td>0.01640</td>\n",
       "      <td>0.814</td>\n",
       "      <td>0.000000</td>\n",
       "      <td>0.3660</td>\n",
       "      <td>0.509</td>\n",
       "      <td>-3.788</td>\n",
       "      <td>0.1170</td>\n",
       "      <td>132.012</td>\n",
       "      <td>1</td>\n",
       "      <td>4</td>\n",
       "    </tr>\n",
       "    <tr>\n",
       "      <th>1</th>\n",
       "      <td>Whatever It Takes</td>\n",
       "      <td>Evolve</td>\n",
       "      <td>Imagine Dragons</td>\n",
       "      <td>6Qn5zhYkTa37e91HC1D7lb</td>\n",
       "      <td>2017-06-23</td>\n",
       "      <td>80</td>\n",
       "      <td>201240</td>\n",
       "      <td>0.672</td>\n",
       "      <td>0.03620</td>\n",
       "      <td>0.655</td>\n",
       "      <td>0.000000</td>\n",
       "      <td>0.1170</td>\n",
       "      <td>0.556</td>\n",
       "      <td>-5.021</td>\n",
       "      <td>0.0311</td>\n",
       "      <td>134.945</td>\n",
       "      <td>10</td>\n",
       "      <td>4</td>\n",
       "    </tr>\n",
       "    <tr>\n",
       "      <th>2</th>\n",
       "      <td>WANNABE</td>\n",
       "      <td>It'z Me</td>\n",
       "      <td>ITZY</td>\n",
       "      <td>6tCssnvTUREcperDOUTqvA</td>\n",
       "      <td>2020-03-09</td>\n",
       "      <td>34</td>\n",
       "      <td>191242</td>\n",
       "      <td>0.809</td>\n",
       "      <td>0.00795</td>\n",
       "      <td>0.911</td>\n",
       "      <td>0.000179</td>\n",
       "      <td>0.1810</td>\n",
       "      <td>0.640</td>\n",
       "      <td>-4.410</td>\n",
       "      <td>0.0617</td>\n",
       "      <td>122.035</td>\n",
       "      <td>6</td>\n",
       "      <td>4</td>\n",
       "    </tr>\n",
       "    <tr>\n",
       "      <th>3</th>\n",
       "      <td>Cash Me Out</td>\n",
       "      <td>4 Walls - The 4th Album</td>\n",
       "      <td>f(x)</td>\n",
       "      <td>6KmaTvFBNvM5ZVUHxP1Sr9</td>\n",
       "      <td>2015-10-27</td>\n",
       "      <td>31</td>\n",
       "      <td>201552</td>\n",
       "      <td>0.772</td>\n",
       "      <td>0.10900</td>\n",
       "      <td>0.863</td>\n",
       "      <td>0.000000</td>\n",
       "      <td>0.1110</td>\n",
       "      <td>0.829</td>\n",
       "      <td>-3.817</td>\n",
       "      <td>0.0959</td>\n",
       "      <td>129.976</td>\n",
       "      <td>6</td>\n",
       "      <td>4</td>\n",
       "    </tr>\n",
       "    <tr>\n",
       "      <th>4</th>\n",
       "      <td>Next Level</td>\n",
       "      <td>Next Level</td>\n",
       "      <td>aespa</td>\n",
       "      <td>2zrhoHlFKxFTRF5aMyxMoQ</td>\n",
       "      <td>2021-05-17</td>\n",
       "      <td>76</td>\n",
       "      <td>221573</td>\n",
       "      <td>0.820</td>\n",
       "      <td>0.48800</td>\n",
       "      <td>0.852</td>\n",
       "      <td>0.000006</td>\n",
       "      <td>0.0907</td>\n",
       "      <td>0.820</td>\n",
       "      <td>-2.567</td>\n",
       "      <td>0.1660</td>\n",
       "      <td>109.036</td>\n",
       "      <td>11</td>\n",
       "      <td>4</td>\n",
       "    </tr>\n",
       "  </tbody>\n",
       "</table>\n",
       "</div>"
      ],
      "text/plain": [
       "                 name                    album           artist  \\\n",
       "0  #BrooklynBloodPop!       #BrooklynBloodPop!             SyKo   \n",
       "1   Whatever It Takes                   Evolve  Imagine Dragons   \n",
       "2             WANNABE                  It'z Me             ITZY   \n",
       "3         Cash Me Out  4 Walls - The 4th Album             f(x)   \n",
       "4          Next Level               Next Level            aespa   \n",
       "\n",
       "                       id release_date  popularity  length  danceability  \\\n",
       "0  7K9Z3yFNNLv5kwTjQYGjnu   2020-07-27          76  145610         0.691   \n",
       "1  6Qn5zhYkTa37e91HC1D7lb   2017-06-23          80  201240         0.672   \n",
       "2  6tCssnvTUREcperDOUTqvA   2020-03-09          34  191242         0.809   \n",
       "3  6KmaTvFBNvM5ZVUHxP1Sr9   2015-10-27          31  201552         0.772   \n",
       "4  2zrhoHlFKxFTRF5aMyxMoQ   2021-05-17          76  221573         0.820   \n",
       "\n",
       "   acousticness  energy  instrumentalness  liveness  valence  loudness  \\\n",
       "0       0.01640   0.814          0.000000    0.3660    0.509    -3.788   \n",
       "1       0.03620   0.655          0.000000    0.1170    0.556    -5.021   \n",
       "2       0.00795   0.911          0.000179    0.1810    0.640    -4.410   \n",
       "3       0.10900   0.863          0.000000    0.1110    0.829    -3.817   \n",
       "4       0.48800   0.852          0.000006    0.0907    0.820    -2.567   \n",
       "\n",
       "   speechiness    tempo  key  time_signature  \n",
       "0       0.1170  132.012    1               4  \n",
       "1       0.0311  134.945   10               4  \n",
       "2       0.0617  122.035    6               4  \n",
       "3       0.0959  129.976    6               4  \n",
       "4       0.1660  109.036   11               4  "
      ]
     },
     "execution_count": 11,
     "metadata": {},
     "output_type": "execute_result"
    }
   ],
   "source": [
    "tracks,columns = download_playlist('4c2BK9SZcaVpGBphzEsj24',16)\n",
    "#If the id if for artist, you must to put specify True to the artist parameter\n",
    "#tracks,columns = download_albums('id_of_the_artist_or_the_album',artist=False)\n",
    "df1 = pd.DataFrame(tracks,columns=columns)\n",
    "df1.head()"
   ]
  },
  {
   "cell_type": "code",
   "execution_count": 12,
   "metadata": {
    "tags": []
   },
   "outputs": [],
   "source": [
    "df1.to_csv('df2.csv',index=False)"
   ]
  },
  {
   "cell_type": "code",
   "execution_count": null,
   "metadata": {},
   "outputs": [],
   "source": []
  }
 ],
 "metadata": {
  "kernelspec": {
   "display_name": "Python 3 (ipykernel)",
   "language": "python",
   "name": "python3"
  },
  "language_info": {
   "codemirror_mode": {
    "name": "ipython",
    "version": 3
   },
   "file_extension": ".py",
   "mimetype": "text/x-python",
   "name": "python",
   "nbconvert_exporter": "python",
   "pygments_lexer": "ipython3",
   "version": "3.10.4"
  }
 },
 "nbformat": 4,
 "nbformat_minor": 2
}
