{
 "cells": [
  {
   "cell_type": "code",
   "execution_count": 1,
   "metadata": {},
   "outputs": [
    {
     "ename": "OSError",
     "evalue": "[WinError 10013] An attempt was made to access a socket in a way forbidden by its access permissions",
     "output_type": "error",
     "traceback": [
      "\u001b[1;31m---------------------------------------------------------------------------\u001b[0m",
      "\u001b[1;31mOSError\u001b[0m                                   Traceback (most recent call last)",
      "Input \u001b[1;32mIn [1]\u001b[0m, in \u001b[0;36m<cell line: 1>\u001b[1;34m()\u001b[0m\n\u001b[1;32m----> 1\u001b[0m \u001b[38;5;28;01mfrom\u001b[39;00m  \u001b[38;5;21;01mhelpers\u001b[39;00m \u001b[38;5;28;01mimport\u001b[39;00m \u001b[38;5;241m*\u001b[39m\n\u001b[0;32m      2\u001b[0m \u001b[38;5;28;01mimport\u001b[39;00m \u001b[38;5;21;01mspotipy\u001b[39;00m\n\u001b[0;32m      3\u001b[0m \u001b[38;5;28;01mfrom\u001b[39;00m \u001b[38;5;21;01mspotipy\u001b[39;00m \u001b[38;5;28;01mimport\u001b[39;00m SpotifyClientCredentials, util\n",
      "File \u001b[1;32m~\\Desktop\\MUSIC RECOMMENDATION SYSTEM\\Classification\\helpers.py:18\u001b[0m, in \u001b[0;36m<module>\u001b[1;34m\u001b[0m\n\u001b[0;32m     15\u001b[0m sp \u001b[38;5;241m=\u001b[39m spotipy\u001b[38;5;241m.\u001b[39mSpotify(client_credentials_manager\u001b[38;5;241m=\u001b[39mmanager)\n\u001b[0;32m     17\u001b[0m \u001b[38;5;66;03m#Credentials to access to  the Spotify User's Playlist, Favorite Songs, etc. \u001b[39;00m\n\u001b[1;32m---> 18\u001b[0m token \u001b[38;5;241m=\u001b[39m \u001b[43mutil\u001b[49m\u001b[38;5;241;43m.\u001b[39;49m\u001b[43mprompt_for_user_token\u001b[49m\u001b[43m(\u001b[49m\u001b[43musername\u001b[49m\u001b[43m,\u001b[49m\u001b[43mscope\u001b[49m\u001b[43m,\u001b[49m\u001b[43mclient_id\u001b[49m\u001b[43m,\u001b[49m\u001b[43mclient_secret\u001b[49m\u001b[43m,\u001b[49m\u001b[43mredirect_uri\u001b[49m\u001b[43m)\u001b[49m \n\u001b[0;32m     19\u001b[0m spt \u001b[38;5;241m=\u001b[39m spotipy\u001b[38;5;241m.\u001b[39mSpotify(auth\u001b[38;5;241m=\u001b[39mtoken)\n\u001b[0;32m     22\u001b[0m \u001b[38;5;28;01mdef\u001b[39;00m \u001b[38;5;21mget_albums_id\u001b[39m(ids):\n",
      "File \u001b[1;32mC:\\Python\\lib\\site-packages\\spotipy\\util.py:99\u001b[0m, in \u001b[0;36mprompt_for_user_token\u001b[1;34m(username, scope, client_id, client_secret, redirect_uri, cache_path, oauth_manager, show_dialog)\u001b[0m\n\u001b[0;32m     96\u001b[0m token_info \u001b[38;5;241m=\u001b[39m sp_oauth\u001b[38;5;241m.\u001b[39mvalidate_token(sp_oauth\u001b[38;5;241m.\u001b[39mcache_handler\u001b[38;5;241m.\u001b[39mget_cached_token())\n\u001b[0;32m     98\u001b[0m \u001b[38;5;28;01mif\u001b[39;00m \u001b[38;5;129;01mnot\u001b[39;00m token_info:\n\u001b[1;32m---> 99\u001b[0m     code \u001b[38;5;241m=\u001b[39m \u001b[43msp_oauth\u001b[49m\u001b[38;5;241;43m.\u001b[39;49m\u001b[43mget_auth_response\u001b[49m\u001b[43m(\u001b[49m\u001b[43m)\u001b[49m\n\u001b[0;32m    100\u001b[0m     token \u001b[38;5;241m=\u001b[39m sp_oauth\u001b[38;5;241m.\u001b[39mget_access_token(code, as_dict\u001b[38;5;241m=\u001b[39m\u001b[38;5;28;01mFalse\u001b[39;00m)\n\u001b[0;32m    101\u001b[0m \u001b[38;5;28;01melse\u001b[39;00m:\n",
      "File \u001b[1;32mC:\\Python\\lib\\site-packages\\spotipy\\oauth2.py:490\u001b[0m, in \u001b[0;36mSpotifyOAuth.get_auth_response\u001b[1;34m(self, open_browser)\u001b[0m\n\u001b[0;32m    483\u001b[0m \u001b[38;5;28;01mif\u001b[39;00m (\n\u001b[0;32m    484\u001b[0m         open_browser\n\u001b[0;32m    485\u001b[0m         \u001b[38;5;129;01mand\u001b[39;00m redirect_host \u001b[38;5;129;01min\u001b[39;00m (\u001b[38;5;124m\"\u001b[39m\u001b[38;5;124m127.0.0.1\u001b[39m\u001b[38;5;124m\"\u001b[39m, \u001b[38;5;124m\"\u001b[39m\u001b[38;5;124mlocalhost\u001b[39m\u001b[38;5;124m\"\u001b[39m)\n\u001b[0;32m    486\u001b[0m         \u001b[38;5;129;01mand\u001b[39;00m redirect_info\u001b[38;5;241m.\u001b[39mscheme \u001b[38;5;241m==\u001b[39m \u001b[38;5;124m\"\u001b[39m\u001b[38;5;124mhttp\u001b[39m\u001b[38;5;124m\"\u001b[39m\n\u001b[0;32m    487\u001b[0m ):\n\u001b[0;32m    488\u001b[0m     \u001b[38;5;66;03m# Only start a local http server if a port is specified\u001b[39;00m\n\u001b[0;32m    489\u001b[0m     \u001b[38;5;28;01mif\u001b[39;00m redirect_port:\n\u001b[1;32m--> 490\u001b[0m         \u001b[38;5;28;01mreturn\u001b[39;00m \u001b[38;5;28;43mself\u001b[39;49m\u001b[38;5;241;43m.\u001b[39;49m\u001b[43m_get_auth_response_local_server\u001b[49m\u001b[43m(\u001b[49m\u001b[43mredirect_port\u001b[49m\u001b[43m)\u001b[49m\n\u001b[0;32m    491\u001b[0m     \u001b[38;5;28;01melse\u001b[39;00m:\n\u001b[0;32m    492\u001b[0m         logger\u001b[38;5;241m.\u001b[39mwarning(\u001b[38;5;124m'\u001b[39m\u001b[38;5;124mUsing `\u001b[39m\u001b[38;5;132;01m%s\u001b[39;00m\u001b[38;5;124m` as redirect URI without a port. \u001b[39m\u001b[38;5;124m'\u001b[39m\n\u001b[0;32m    493\u001b[0m                        \u001b[38;5;124m'\u001b[39m\u001b[38;5;124mSpecify a port (e.g. `\u001b[39m\u001b[38;5;132;01m%s\u001b[39;00m\u001b[38;5;124m:8080`) to allow \u001b[39m\u001b[38;5;124m'\u001b[39m\n\u001b[0;32m    494\u001b[0m                        \u001b[38;5;124m'\u001b[39m\u001b[38;5;124mautomatic retrieval of authentication code \u001b[39m\u001b[38;5;124m'\u001b[39m\n\u001b[0;32m    495\u001b[0m                        \u001b[38;5;124m'\u001b[39m\u001b[38;5;124minstead of having to copy and paste \u001b[39m\u001b[38;5;124m'\u001b[39m\n\u001b[0;32m    496\u001b[0m                        \u001b[38;5;124m'\u001b[39m\u001b[38;5;124mthe URL your browser is redirected to.\u001b[39m\u001b[38;5;124m'\u001b[39m,\n\u001b[0;32m    497\u001b[0m                        redirect_host, redirect_host)\n",
      "File \u001b[1;32mC:\\Python\\lib\\site-packages\\spotipy\\oauth2.py:457\u001b[0m, in \u001b[0;36mSpotifyOAuth._get_auth_response_local_server\u001b[1;34m(self, redirect_port)\u001b[0m\n\u001b[0;32m    456\u001b[0m \u001b[38;5;28;01mdef\u001b[39;00m \u001b[38;5;21m_get_auth_response_local_server\u001b[39m(\u001b[38;5;28mself\u001b[39m, redirect_port):\n\u001b[1;32m--> 457\u001b[0m     server \u001b[38;5;241m=\u001b[39m \u001b[43mstart_local_http_server\u001b[49m\u001b[43m(\u001b[49m\u001b[43mredirect_port\u001b[49m\u001b[43m)\u001b[49m\n\u001b[0;32m    458\u001b[0m     \u001b[38;5;28mself\u001b[39m\u001b[38;5;241m.\u001b[39m_open_auth_url()\n\u001b[0;32m    459\u001b[0m     server\u001b[38;5;241m.\u001b[39mhandle_request()\n",
      "File \u001b[1;32mC:\\Python\\lib\\site-packages\\spotipy\\oauth2.py:1303\u001b[0m, in \u001b[0;36mstart_local_http_server\u001b[1;34m(port, handler)\u001b[0m\n\u001b[0;32m   1302\u001b[0m \u001b[38;5;28;01mdef\u001b[39;00m \u001b[38;5;21mstart_local_http_server\u001b[39m(port, handler\u001b[38;5;241m=\u001b[39mRequestHandler):\n\u001b[1;32m-> 1303\u001b[0m     server \u001b[38;5;241m=\u001b[39m \u001b[43mHTTPServer\u001b[49m\u001b[43m(\u001b[49m\u001b[43m(\u001b[49m\u001b[38;5;124;43m\"\u001b[39;49m\u001b[38;5;124;43m127.0.0.1\u001b[39;49m\u001b[38;5;124;43m\"\u001b[39;49m\u001b[43m,\u001b[49m\u001b[43m \u001b[49m\u001b[43mport\u001b[49m\u001b[43m)\u001b[49m\u001b[43m,\u001b[49m\u001b[43m \u001b[49m\u001b[43mhandler\u001b[49m\u001b[43m)\u001b[49m\n\u001b[0;32m   1304\u001b[0m     server\u001b[38;5;241m.\u001b[39mallow_reuse_address \u001b[38;5;241m=\u001b[39m \u001b[38;5;28;01mTrue\u001b[39;00m\n\u001b[0;32m   1305\u001b[0m     server\u001b[38;5;241m.\u001b[39mauth_code \u001b[38;5;241m=\u001b[39m \u001b[38;5;28;01mNone\u001b[39;00m\n",
      "File \u001b[1;32mC:\\Python\\lib\\socketserver.py:452\u001b[0m, in \u001b[0;36mTCPServer.__init__\u001b[1;34m(self, server_address, RequestHandlerClass, bind_and_activate)\u001b[0m\n\u001b[0;32m    450\u001b[0m \u001b[38;5;28;01mif\u001b[39;00m bind_and_activate:\n\u001b[0;32m    451\u001b[0m     \u001b[38;5;28;01mtry\u001b[39;00m:\n\u001b[1;32m--> 452\u001b[0m         \u001b[38;5;28;43mself\u001b[39;49m\u001b[38;5;241;43m.\u001b[39;49m\u001b[43mserver_bind\u001b[49m\u001b[43m(\u001b[49m\u001b[43m)\u001b[49m\n\u001b[0;32m    453\u001b[0m         \u001b[38;5;28mself\u001b[39m\u001b[38;5;241m.\u001b[39mserver_activate()\n\u001b[0;32m    454\u001b[0m     \u001b[38;5;28;01mexcept\u001b[39;00m:\n",
      "File \u001b[1;32mC:\\Python\\lib\\http\\server.py:136\u001b[0m, in \u001b[0;36mHTTPServer.server_bind\u001b[1;34m(self)\u001b[0m\n\u001b[0;32m    134\u001b[0m \u001b[38;5;28;01mdef\u001b[39;00m \u001b[38;5;21mserver_bind\u001b[39m(\u001b[38;5;28mself\u001b[39m):\n\u001b[0;32m    135\u001b[0m     \u001b[38;5;124;03m\"\"\"Override server_bind to store the server name.\"\"\"\u001b[39;00m\n\u001b[1;32m--> 136\u001b[0m     \u001b[43msocketserver\u001b[49m\u001b[38;5;241;43m.\u001b[39;49m\u001b[43mTCPServer\u001b[49m\u001b[38;5;241;43m.\u001b[39;49m\u001b[43mserver_bind\u001b[49m\u001b[43m(\u001b[49m\u001b[38;5;28;43mself\u001b[39;49m\u001b[43m)\u001b[49m\n\u001b[0;32m    137\u001b[0m     host, port \u001b[38;5;241m=\u001b[39m \u001b[38;5;28mself\u001b[39m\u001b[38;5;241m.\u001b[39mserver_address[:\u001b[38;5;241m2\u001b[39m]\n\u001b[0;32m    138\u001b[0m     \u001b[38;5;28mself\u001b[39m\u001b[38;5;241m.\u001b[39mserver_name \u001b[38;5;241m=\u001b[39m socket\u001b[38;5;241m.\u001b[39mgetfqdn(host)\n",
      "File \u001b[1;32mC:\\Python\\lib\\socketserver.py:466\u001b[0m, in \u001b[0;36mTCPServer.server_bind\u001b[1;34m(self)\u001b[0m\n\u001b[0;32m    464\u001b[0m \u001b[38;5;28;01mif\u001b[39;00m \u001b[38;5;28mself\u001b[39m\u001b[38;5;241m.\u001b[39mallow_reuse_address:\n\u001b[0;32m    465\u001b[0m     \u001b[38;5;28mself\u001b[39m\u001b[38;5;241m.\u001b[39msocket\u001b[38;5;241m.\u001b[39msetsockopt(socket\u001b[38;5;241m.\u001b[39mSOL_SOCKET, socket\u001b[38;5;241m.\u001b[39mSO_REUSEADDR, \u001b[38;5;241m1\u001b[39m)\n\u001b[1;32m--> 466\u001b[0m \u001b[38;5;28;43mself\u001b[39;49m\u001b[38;5;241;43m.\u001b[39;49m\u001b[43msocket\u001b[49m\u001b[38;5;241;43m.\u001b[39;49m\u001b[43mbind\u001b[49m\u001b[43m(\u001b[49m\u001b[38;5;28;43mself\u001b[39;49m\u001b[38;5;241;43m.\u001b[39;49m\u001b[43mserver_address\u001b[49m\u001b[43m)\u001b[49m\n\u001b[0;32m    467\u001b[0m \u001b[38;5;28mself\u001b[39m\u001b[38;5;241m.\u001b[39mserver_address \u001b[38;5;241m=\u001b[39m \u001b[38;5;28mself\u001b[39m\u001b[38;5;241m.\u001b[39msocket\u001b[38;5;241m.\u001b[39mgetsockname()\n",
      "\u001b[1;31mOSError\u001b[0m: [WinError 10013] An attempt was made to access a socket in a way forbidden by its access permissions"
     ]
    }
   ],
   "source": [
    "from  helpers import *\n",
    "import spotipy\n",
    "from spotipy import SpotifyClientCredentials, util\n",
    "from IPython.core.display import clear_output\n",
    "\n",
    "import pandas as pd \n",
    "import pandasql as ps \n",
    "import time\n",
    "import sqlite3\n"
   ]
  },
  {
   "cell_type": "code",
   "execution_count": 27,
   "metadata": {
    "tags": []
   },
   "outputs": [
    {
     "name": "stdout",
     "output_type": "stream",
     "text": [
      "Music Downloaded!\n"
     ]
    },
    {
     "data": {
      "text/plain": [
       "197"
      ]
     },
     "execution_count": 27,
     "metadata": {},
     "output_type": "execute_result"
    }
   ],
   "source": [
    "tracks,columns = download_playlist('id_of_the_playlist','number_of_the_playlist_songs')\n",
    "#If the id if for artist, you must to put specify True to the artist parameter\n",
    "tracks,columns = download_albums('id_of_the_artist_or_the_album',artist=False)\n",
    "df1 = pd.DataFrame(tracks,columns=columns)\n",
    "df1.head()"
   ]
  },
  {
   "cell_type": "code",
   "execution_count": 28,
   "metadata": {
    "tags": []
   },
   "outputs": [],
   "source": [
    "df1.to_csv('df2.csv',index=False)"
   ]
  }
 ],
 "metadata": {
  "kernelspec": {
   "display_name": "Python 3 (ipykernel)",
   "language": "python",
   "name": "python3"
  },
  "language_info": {
   "codemirror_mode": {
    "name": "ipython",
    "version": 3
   },
   "file_extension": ".py",
   "mimetype": "text/x-python",
   "name": "python",
   "nbconvert_exporter": "python",
   "pygments_lexer": "ipython3",
   "version": "3.10.4"
  }
 },
 "nbformat": 4,
 "nbformat_minor": 2
}
